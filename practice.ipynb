{
    "cells": [
        {
            "cell_type": "code",
            "execution_count": 7,
            "source": [
                "import math\r\n",
                "math.gcd(14,1)\r\n"
            ],
            "outputs": [
                {
                    "output_type": "execute_result",
                    "data": {
                        "text/plain": [
                            "1"
                        ]
                    },
                    "metadata": {},
                    "execution_count": 7
                }
            ],
            "metadata": {}
        },
        {
            "cell_type": "code",
            "execution_count": 1,
            "source": [
                "import itertools\r\n",
                "a= list(itertools.permutations([1,2,3,4],2))\r\n",
                "print(a)\r\n",
                "b= list(itertools.product([1,2,3,4],repeat=2))\r\n",
                "print(b)\r\n",
                "c = list(itertools.combinations([]))"
            ],
            "outputs": [
                {
                    "output_type": "stream",
                    "name": "stdout",
                    "text": [
                        "[(1, 2), (1, 3), (1, 4), (2, 1), (2, 3), (2, 4), (3, 1), (3, 2), (3, 4), (4, 1), (4, 2), (4, 3)]\n",
                        "[(1, 1), (1, 2), (1, 3), (1, 4), (2, 1), (2, 2), (2, 3), (2, 4), (3, 1), (3, 2), (3, 3), (3, 4), (4, 1), (4, 2), (4, 3), (4, 4)]\n"
                    ]
                }
            ],
            "metadata": {}
        },
        {
            "cell_type": "markdown",
            "source": [
                "# x -> y-1 지점 이동\r\n",
                "    10 = 2-3-4-1\r\n",
                "    9 = 2-3-4\r\n"
            ],
            "metadata": {}
        },
        {
            "cell_type": "code",
            "execution_count": 40,
            "source": [
                "cnt = int(input())\r\n",
                "for i in range(1,cnt+1):\r\n",
                "    T = (i*i+i)/2\r\n",
                "    print(T)"
            ],
            "outputs": [
                {
                    "output_type": "stream",
                    "name": "stdout",
                    "text": [
                        "1.0\n",
                        "3.0\n",
                        "6.0\n",
                        "10.0\n",
                        "15.0\n",
                        "21.0\n",
                        "28.0\n",
                        "36.0\n",
                        "45.0\n",
                        "55.0\n"
                    ]
                }
            ],
            "metadata": {}
        },
        {
            "cell_type": "code",
            "execution_count": 47,
            "source": [
                "import sys\r\n",
                "a = int(input())\r\n",
                "for x in range(a):\r\n",
                "    b, c = map(int,input().split())\r\n",
                "    d = c - b\r\n",
                "    i=0\r\n",
                "    while d > 0 :\r\n",
                "        i += 1\r\n",
                "        d -= 2*i\r\n",
                "        \r\n",
                "        print(i , d)\r\n",
                "        if d <= 0:\r\n",
                "            print(\"-----\")\r\n",
                "            print(2 * i)\r\n",
                "            break\r\n",
                "        elif d <= i+1:\r\n",
                "            print(\"---------\")\r\n",
                "            print(i*2+1)\r\n",
                "            break\r\n",
                "        # 123211\r\n",
                "        # 123456789 10 987654321"
            ],
            "outputs": [
                {
                    "output_type": "stream",
                    "name": "stdout",
                    "text": [
                        "1 98\n",
                        "2 94\n",
                        "3 88\n",
                        "4 80\n",
                        "5 70\n",
                        "6 58\n",
                        "7 44\n",
                        "8 28\n",
                        "9 10\n",
                        "---------\n",
                        "19\n"
                    ]
                }
            ],
            "metadata": {}
        },
        {
            "cell_type": "code",
            "execution_count": 26,
            "source": [
                "x=[]\r\n",
                "for i in range(2):\r\n",
                "    x.append(int(input()))"
            ],
            "outputs": [],
            "metadata": {}
        }
    ],
    "metadata": {
        "orig_nbformat": 4,
        "language_info": {
            "name": "python",
            "version": "3.8.8",
            "mimetype": "text/x-python",
            "codemirror_mode": {
                "name": "ipython",
                "version": 3
            },
            "pygments_lexer": "ipython3",
            "nbconvert_exporter": "python",
            "file_extension": ".py"
        },
        "kernelspec": {
            "name": "python3",
            "display_name": "Python 3.8.8 64-bit"
        },
        "interpreter": {
            "hash": "4081b0249ff0366548738c22aca111d3062ff663ab4cff1f9c339e355cf6c855"
        }
    },
    "nbformat": 4,
    "nbformat_minor": 2
}