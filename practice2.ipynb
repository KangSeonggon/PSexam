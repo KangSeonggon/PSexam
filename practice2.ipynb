{
    "cells": [
        {
            "cell_type": "code",
            "execution_count": 5,
            "source": [
                "def Factt(N):\r\n",
                "    if N == 0:\r\n",
                "        return 1\r\n",
                "    else:\r\n",
                "        return N*Factt(N-1)\r\n",
                "N = int(input())\r\n",
                "Factt(N)\r\n",
                "    "
            ],
            "outputs": [
                {
                    "output_type": "execute_result",
                    "data": {
                        "text/plain": [
                            "1"
                        ]
                    },
                    "metadata": {},
                    "execution_count": 5
                }
            ],
            "metadata": {}
        },
        {
            "cell_type": "code",
            "execution_count": null,
            "source": [
                "\r\n",
                "def Fibo(N):\r\n",
                "    if N==0:\r\n",
                "        return 0\r\n",
                "    if N<=2:\r\n",
                "        return 1\r\n",
                "    else:\r\n",
                "        return Fibo(N-1)+Fibo(N-2)\r\n",
                "N = int(input())\r\n",
                "print(Fibo(N))"
            ],
            "outputs": [
                {
                    "output_type": "error",
                    "ename": "Error",
                    "evalue": "Session cannot generate requests",
                    "traceback": [
                        "Error: Session cannot generate requests",
                        "at w.executeCodeCell (c:\\Users\\gon\\.vscode\\extensions\\ms-toolsai.jupyter-2021.8.1054968649\\out\\client\\extension.js:90:320068)",
                        "at w.execute (c:\\Users\\gon\\.vscode\\extensions\\ms-toolsai.jupyter-2021.8.1054968649\\out\\client\\extension.js:90:319389)",
                        "at w.start (c:\\Users\\gon\\.vscode\\extensions\\ms-toolsai.jupyter-2021.8.1054968649\\out\\client\\extension.js:90:315205)",
                        "at runMicrotasks (<anonymous>)",
                        "at processTicksAndRejections (internal/process/task_queues.js:93:5)",
                        "at async t.CellExecutionQueue.executeQueuedCells (c:\\Users\\gon\\.vscode\\extensions\\ms-toolsai.jupyter-2021.8.1054968649\\out\\client\\extension.js:90:329732)",
                        "at async t.CellExecutionQueue.start (c:\\Users\\gon\\.vscode\\extensions\\ms-toolsai.jupyter-2021.8.1054968649\\out\\client\\extension.js:90:329272)"
                    ]
                }
            ],
            "metadata": {}
        },
        {
            "cell_type": "code",
            "execution_count": 7,
            "source": [
                "# import sys\r\n",
                "# T = sys.stdin.readline().rstrip()\r\n",
                "temp = input()\r\n",
                "cnt = 0\r\n",
                "T = input().split(\" \")\r\n",
                "for i in T:\r\n",
                "    for j in range(2,int(i)):\r\n",
                "         \r\n",
                "print(cnt)"
            ],
            "outputs": [
                {
                    "output_type": "stream",
                    "name": "stdout",
                    "text": [
                        "2\n"
                    ]
                }
            ],
            "metadata": {}
        },
        {
            "cell_type": "code",
            "execution_count": null,
            "source": [
                ":"
            ],
            "outputs": [],
            "metadata": {}
        }
    ],
    "metadata": {
        "orig_nbformat": 4,
        "language_info": {
            "name": "python",
            "version": "3.8.8",
            "mimetype": "text/x-python",
            "codemirror_mode": {
                "name": "ipython",
                "version": 3
            },
            "pygments_lexer": "ipython3",
            "nbconvert_exporter": "python",
            "file_extension": ".py"
        },
        "kernelspec": {
            "name": "python3",
            "display_name": "Python 3.8.8 64-bit"
        },
        "interpreter": {
            "hash": "4081b0249ff0366548738c22aca111d3062ff663ab4cff1f9c339e355cf6c855"
        }
    },
    "nbformat": 4,
    "nbformat_minor": 2
}