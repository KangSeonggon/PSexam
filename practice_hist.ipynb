{
 "cells": [
  {
   "cell_type": "code",
   "execution_count": 27,
   "source": [
    "n = input()\r\n",
    "x=[]\r\n",
    "temp = []\r\n",
    "cnt = 0\r\n",
    "for i in range(int(n)):\r\n",
    "   x.append(input())\r\n",
    "\r\n",
    "for i in x:\r\n",
    "   temp.append(set(i))\r\n",
    "for i in range(len(x)):\r\n",
    "   for j in temp[i]:\r\n",
    "      ind = x[i].find(j)\r\n",
    "      while True:\r\n",
    "         try:\r\n",
    "            if x[i][ind+1] != j:\r\n",
    "               break\r\n",
    "            else:\r\n",
    "               ind+=1\r\n",
    "         except IndexError:\r\n",
    "            break\r\n",
    "      if x[i].rfind(j) == ind:\r\n",
    "         continue\r\n",
    "      else:\r\n",
    "         cnt-=1\r\n",
    "         break\r\n",
    "   cnt+=1\r\n",
    "print(cnt)"
   ],
   "outputs": [
    {
     "output_type": "stream",
     "name": "stdout",
     "text": [
      "3\n"
     ]
    }
   ],
   "metadata": {}
  },
  {
   "cell_type": "code",
   "execution_count": 26,
   "source": [
    "x"
   ],
   "outputs": [
    {
     "output_type": "execute_result",
     "data": {
      "text/plain": [
       "['wwwrrreew', 'happy']"
      ]
     },
     "metadata": {},
     "execution_count": 26
    }
   ],
   "metadata": {}
  },
  {
   "cell_type": "code",
   "execution_count": 39,
   "source": [
    "ac"
   ],
   "outputs": [
    {
     "output_type": "execute_result",
     "data": {
      "text/plain": [
       "['c', 'a', 'b', 'a']"
      ]
     },
     "metadata": {},
     "execution_count": 39
    }
   ],
   "metadata": {}
  },
  {
   "cell_type": "code",
   "execution_count": 38,
   "source": [
    "ac = list(\"caaba\")\r\n",
    "ac.pop(1)"
   ],
   "outputs": [
    {
     "output_type": "execute_result",
     "data": {
      "text/plain": [
       "'a'"
      ]
     },
     "metadata": {},
     "execution_count": 38
    }
   ],
   "metadata": {}
  },
  {
   "cell_type": "code",
   "execution_count": 7,
   "source": [
    "a = 'abcba'\r\n",
    "list(a).sort()\r\n",
    "print(a)\r\n",
    "print(list(a).sort())"
   ],
   "outputs": [
    {
     "output_type": "stream",
     "name": "stdout",
     "text": [
      "abcba\n",
      "None\n"
     ]
    }
   ],
   "metadata": {}
  },
  {
   "cell_type": "code",
   "execution_count": 26,
   "source": [
    "xx"
   ],
   "outputs": [
    {
     "output_type": "execute_result",
     "data": {
      "text/plain": [
       "['c', 'c', 'c', 'a', 'b']"
      ]
     },
     "metadata": {},
     "execution_count": 26
    }
   ],
   "metadata": {}
  },
  {
   "cell_type": "code",
   "execution_count": 9,
   "source": [
    "xx = list(\"acccab\")"
   ],
   "outputs": [],
   "metadata": {}
  },
  {
   "cell_type": "code",
   "execution_count": 22,
   "source": [
    "set(xx).pop(1)"
   ],
   "outputs": [
    {
     "output_type": "error",
     "ename": "TypeError",
     "evalue": "pop() takes no arguments (1 given)",
     "traceback": [
      "\u001b[1;31m---------------------------------------------------------------------------\u001b[0m",
      "\u001b[1;31mTypeError\u001b[0m                                 Traceback (most recent call last)",
      "\u001b[1;32m<ipython-input-22-81cdfaf79919>\u001b[0m in \u001b[0;36m<module>\u001b[1;34m\u001b[0m\n\u001b[1;32m----> 1\u001b[1;33m \u001b[0mset\u001b[0m\u001b[1;33m(\u001b[0m\u001b[0mxx\u001b[0m\u001b[1;33m)\u001b[0m\u001b[1;33m.\u001b[0m\u001b[0mpop\u001b[0m\u001b[1;33m(\u001b[0m\u001b[1;36m1\u001b[0m\u001b[1;33m)\u001b[0m\u001b[1;33m\u001b[0m\u001b[1;33m\u001b[0m\u001b[0m\n\u001b[0m",
      "\u001b[1;31mTypeError\u001b[0m: pop() takes no arguments (1 given)"
     ]
    }
   ],
   "metadata": {}
  },
  {
   "cell_type": "code",
   "execution_count": 12,
   "source": [
    "a = [set(\"happy\"),set(\"ac\")]"
   ],
   "outputs": [],
   "metadata": {}
  },
  {
   "cell_type": "code",
   "execution_count": 13,
   "source": [
    "a"
   ],
   "outputs": [
    {
     "output_type": "execute_result",
     "data": {
      "text/plain": [
       "[{'a', 'h', 'p', 'y'}, {'a', 'c'}]"
      ]
     },
     "metadata": {},
     "execution_count": 13
    }
   ],
   "metadata": {}
  },
  {
   "cell_type": "code",
   "execution_count": 24,
   "source": [
    "set(xx)"
   ],
   "outputs": [
    {
     "output_type": "execute_result",
     "data": {
      "text/plain": [
       "{'a', 'b', 'c'}"
      ]
     },
     "metadata": {},
     "execution_count": 24
    }
   ],
   "metadata": {}
  },
  {
   "cell_type": "code",
   "execution_count": 27,
   "source": [
    "'acv'.find('d')"
   ],
   "outputs": [
    {
     "output_type": "execute_result",
     "data": {
      "text/plain": [
       "-1"
      ]
     },
     "metadata": {},
     "execution_count": 27
    }
   ],
   "metadata": {}
  },
  {
   "cell_type": "code",
   "execution_count": 32,
   "source": [
    "a = list('abcdefghijklmnopqrstuvwxyz')\r\n",
    "n = input()\r\n",
    "for i in a:\r\n",
    "    print(n.find(i), end=\" \")"
   ],
   "outputs": [
    {
     "output_type": "stream",
     "name": "stdout",
     "text": [
      "0-12-1-1-1-1-1-1-1-1-1-1-1-1-1-1-11-1-1-1-1-1-1-1"
     ]
    }
   ],
   "metadata": {}
  },
  {
   "cell_type": "code",
   "execution_count": 37,
   "source": [
    "n= input()\r\n",
    "for i in range(int(n)):\r\n",
    "    x, y = input().split(\" \")\r\n",
    "    temp = \"\"\r\n",
    "    for j in y:\r\n",
    "        for k in range(int(x)):\r\n",
    "            temp+=j\r\n",
    "    print(temp)"
   ],
   "outputs": [
    {
     "output_type": "stream",
     "name": "stdout",
     "text": [
      "tteemmpp\n",
      "tttteeee\n"
     ]
    }
   ],
   "metadata": {}
  },
  {
   "cell_type": "code",
   "execution_count": 38,
   "source": [
    "\"asd\".upper()"
   ],
   "outputs": [
    {
     "output_type": "execute_result",
     "data": {
      "text/plain": [
       "'ASD'"
      ]
     },
     "metadata": {},
     "execution_count": 38
    }
   ],
   "metadata": {}
  },
  {
   "cell_type": "code",
   "execution_count": 73,
   "source": [
    "n= input()\r\n",
    "temp = n.upper()\r\n",
    "tempset = set(temp)\r\n",
    "max=0\r\n",
    "maxstr=\"\"\r\n",
    "for i in tempset:\r\n",
    "    if temp.count(i) > max:\r\n",
    "        max = temp.count(i)\r\n",
    "        maxstr = i\r\n",
    "    elif temp.count(i) == max:\r\n",
    "        maxstr = \"?\"\r\n",
    "print(maxstr)"
   ],
   "outputs": [
    {
     "output_type": "stream",
     "name": "stdout",
     "text": [
      "A\n"
     ]
    }
   ],
   "metadata": {}
  },
  {
   "cell_type": "code",
   "execution_count": 90,
   "source": [
    "set(temp)"
   ],
   "outputs": [
    {
     "output_type": "execute_result",
     "data": {
      "text/plain": [
       "\"['d', 's', 'a']\""
      ]
     },
     "metadata": {},
     "execution_count": 90
    }
   ],
   "metadata": {}
  },
  {
   "cell_type": "code",
   "execution_count": 75,
   "source": [
    "n = \" set ttee set\"\r\n",
    "n.split(\" \")"
   ],
   "outputs": [
    {
     "output_type": "execute_result",
     "data": {
      "text/plain": [
       "['', 'set', 'ttee', 'set']"
      ]
     },
     "metadata": {},
     "execution_count": 75
    }
   ],
   "metadata": {}
  },
  {
   "cell_type": "code",
   "execution_count": 79,
   "source": [
    "import sys\r\n",
    "n = sys.stdin.readline().strip()\r\n",
    "\r\n",
    "temp = n.split(\" \")\r\n",
    "for i in temp:\r\n",
    "    if i == '':\r\n",
    "        temp.remove(i)\r\n",
    "print(len(temp))"
   ],
   "outputs": [
    {
     "output_type": "stream",
     "name": "stdout",
     "text": [
      "4\n"
     ]
    }
   ],
   "metadata": {}
  },
  {
   "cell_type": "code",
   "execution_count": 105,
   "source": [
    "x,y = input().split(\" \")\r\n",
    "tempx = list(x)\r\n",
    "tempy = list(y)\r\n",
    "tempx.reverse()\r\n",
    "tempy.reverse()\r\n",
    "for i in range(len(tempx)):\r\n",
    "    if int(tempx[i]) > int(tempy[i]):\r\n",
    "        fx = \"\".join([str(_) for _ in tempx])\r\n",
    "        print(int(fx))\r\n",
    "        break\r\n",
    "    elif int(tempx[i]) == int(tempy[i]):\r\n",
    "        continue\r\n",
    "    else:\r\n",
    "        fy = \"\".join([str(_) for _ in tempy])\r\n",
    "        print(int(fy))\r\n",
    "        break"
   ],
   "outputs": [
    {
     "output_type": "stream",
     "name": "stdout",
     "text": [
      "332\n"
     ]
    }
   ],
   "metadata": {}
  },
  {
   "cell_type": "code",
   "execution_count": 104,
   "source": [
    "print(x.reverse())"
   ],
   "outputs": [
    {
     "output_type": "error",
     "ename": "AttributeError",
     "evalue": "'str' object has no attribute 'reverse'",
     "traceback": [
      "\u001b[1;31m---------------------------------------------------------------------------\u001b[0m",
      "\u001b[1;31mAttributeError\u001b[0m                            Traceback (most recent call last)",
      "\u001b[1;32m<ipython-input-104-4ea14c581d1f>\u001b[0m in \u001b[0;36m<module>\u001b[1;34m\u001b[0m\n\u001b[1;32m----> 1\u001b[1;33m \u001b[0mprint\u001b[0m\u001b[1;33m(\u001b[0m\u001b[0mx\u001b[0m\u001b[1;33m.\u001b[0m\u001b[0mreverse\u001b[0m\u001b[1;33m(\u001b[0m\u001b[1;33m)\u001b[0m\u001b[1;33m)\u001b[0m\u001b[1;33m\u001b[0m\u001b[1;33m\u001b[0m\u001b[0m\n\u001b[0m",
      "\u001b[1;31mAttributeError\u001b[0m: 'str' object has no attribute 'reverse'"
     ]
    }
   ],
   "metadata": {}
  },
  {
   "cell_type": "code",
   "execution_count": 111,
   "source": [
    "ord(\"6\")"
   ],
   "outputs": [
    {
     "output_type": "execute_result",
     "data": {
      "text/plain": [
       "54"
      ]
     },
     "metadata": {},
     "execution_count": 111
    }
   ],
   "metadata": {}
  },
  {
   "cell_type": "code",
   "execution_count": 114,
   "source": [
    "n = input()\r\n",
    "cnt = 0\r\n",
    "templist = [\"ABC\",\"DEF\",\"GHI\",\"JKL\",\"MNO\",\"PQRS\",\"TUV\" ,\"WXYZ\"]\r\n",
    "for i in n:\r\n",
    "    for k in templist:\r\n",
    "        if i in k:\r\n",
    "            cnt += templist.index(k)+3\r\n",
    "print(cnt)"
   ],
   "outputs": [
    {
     "output_type": "stream",
     "name": "stdout",
     "text": [
      "36\n"
     ]
    }
   ],
   "metadata": {}
  },
  {
   "cell_type": "code",
   "execution_count": 12,
   "source": [
    "x,y,z = map(int,input().split(\" \"))\r\n",
    "try:\r\n",
    "    temp=x//(z-y)\r\n",
    "    rem=x%(z-y)\r\n",
    "except ZeroDivisionError:\r\n",
    "    pass\r\n",
    "\r\n",
    "if y>=z:\r\n",
    "    print(-1)\r\n",
    "else:\r\n",
    "    print(temp+1)"
   ],
   "outputs": [
    {
     "output_type": "stream",
     "name": "stdout",
     "text": [
      "11\n"
     ]
    }
   ],
   "metadata": {}
  },
  {
   "cell_type": "code",
   "execution_count": 9,
   "source": [
    "10//3"
   ],
   "outputs": [
    {
     "output_type": "execute_result",
     "data": {
      "text/plain": [
       "3"
      ]
     },
     "metadata": {},
     "execution_count": 9
    }
   ],
   "metadata": {}
  },
  {
   "cell_type": "code",
   "execution_count": 37,
   "source": [
    "list(range(10))"
   ],
   "outputs": [
    {
     "output_type": "execute_result",
     "data": {
      "text/plain": [
       "[0, 1, 2, 3, 4, 5, 6, 7, 8, 9]"
      ]
     },
     "metadata": {},
     "execution_count": 37
    }
   ],
   "metadata": {}
  },
  {
   "cell_type": "code",
   "execution_count": 38,
   "source": [
    "templist = []\r\n",
    "cnt = 1\r\n",
    "while True:\r\n",
    "    T = 3*cnt*(cnt-1)+1\r\n",
    "    for i in range(T):\r\n",
    "        templist.append(list(range(T)))\r\n",
    "    if T>=30:\r\n",
    "        break\r\n",
    "print(templist)"
   ],
   "outputs": [],
   "metadata": {}
  },
  {
   "cell_type": "code",
   "execution_count": 37,
   "source": [
    "templist=[]\r\n",
    "cnt = 10\r\n",
    "T = 3*cnt*(cnt-1)+1\r\n",
    "x = set(range(T))      \r\n",
    "cnt+=1\r\n",
    "T = 3*cnt*(cnt-1)+1\r\n",
    "y = set(range(T))    \r\n",
    "templist.append(list(y-x))\r\n",
    "print(templist)"
   ],
   "outputs": [
    {
     "output_type": "stream",
     "name": "stdout",
     "text": [
      "[[271, 272, 273, 274, 275, 276, 277, 278, 279, 280, 281, 282, 283, 284, 285, 286, 287, 288, 289, 290, 291, 292, 293, 294, 295, 296, 297, 298, 299, 300, 301, 302, 303, 304, 305, 306, 307, 308, 309, 310, 311, 312, 313, 314, 315, 316, 317, 318, 319, 320, 321, 322, 323, 324, 325, 326, 327, 328, 329, 330]]\n"
     ]
    }
   ],
   "metadata": {}
  },
  {
   "cell_type": "code",
   "execution_count": 7,
   "source": [
    "n=input()\r\n",
    "templist=[]\r\n",
    "cnt = 0\r\n",
    "T = 3*cnt*(cnt-1)+1\r\n",
    "while True:\r\n",
    "    cnt+=1\r\n",
    "    T = 3*cnt*(cnt-1)+1\r\n",
    "    if T >= int(n):\r\n",
    "        break\r\n",
    "print(cnt)"
   ],
   "outputs": [
    {
     "output_type": "stream",
     "name": "stdout",
     "text": [
      "3\n"
     ]
    }
   ],
   "metadata": {}
  },
  {
   "cell_type": "code",
   "execution_count": 4,
   "source": [
    "temp =11\r\n",
    "cnt =2\r\n",
    "oneplus = 2*cnt*cnt - cnt\r\n",
    "tenplus = 2*cnt*cnt + cnt\r\n",
    "if cnt == oneplus:\r\n",
    "        temp += 1\r\n",
    "elif cnt == tenplus:\r\n",
    "    temp += 10\r\n",
    "else:\r\n",
    "    temp-=9\r\n",
    "print(temp)"
   ],
   "outputs": [
    {
     "output_type": "stream",
     "name": "stdout",
     "text": [
      "2\n"
     ]
    }
   ],
   "metadata": {}
  },
  {
   "cell_type": "code",
   "execution_count": 6,
   "source": [
    "for i in range(1):\r\n",
    "    print(i)"
   ],
   "outputs": [
    {
     "output_type": "stream",
     "name": "stdout",
     "text": [
      "0\n"
     ]
    }
   ],
   "metadata": {}
  },
  {
   "cell_type": "code",
   "execution_count": 22,
   "source": [
    "n = input()\r\n",
    "temp = 11\r\n",
    "cnt = 1\r\n",
    "tempone=[1]\r\n",
    "tempten=[3]\r\n",
    "proceed=None\r\n",
    "while True:\r\n",
    "    if cnt in tempone:\r\n",
    "        temp += 1\r\n",
    "        proceed=True\r\n",
    "    elif cnt in tempten:\r\n",
    "        temp += 10\r\n",
    "        proceed=False\r\n",
    "    if (proceed == True) and (cnt not in tempone):\r\n",
    "        temp+=9\r\n",
    "    elif (proceed == False) and (cnt not in tempten):\r\n",
    "        temp-=9\r\n",
    "    if cnt+1 == int(n):\r\n",
    "        if proceed == True:\r\n",
    "            print(temp)\r\n",
    "        elif proceed == False:\r\n",
    "            print(temp)\r\n",
    "        break\r\n",
    "    cnt+=1\r\n",
    "    tempone.append(2*cnt*cnt - cnt)\r\n",
    "    tempten.append(2*cnt*cnt + cnt)"
   ],
   "outputs": [
    {
     "output_type": "stream",
     "name": "stdout",
     "text": [
      "22\n"
     ]
    }
   ],
   "metadata": {}
  },
  {
   "cell_type": "code",
   "execution_count": 62,
   "source": [
    "n = int(input())\r\n",
    "temp=0\r\n",
    "i=1\r\n",
    "lft=1\r\n",
    "rgt=1\r\n",
    "listcnt = 0\r\n",
    "while True:\r\n",
    "    if n <= temp:\r\n",
    "        break\r\n",
    "    else:\r\n",
    "        temp += i\r\n",
    "        i+=1\r\n",
    "\r\n",
    "for k in range(i-1):\r\n",
    "    listcnt += k\r\n",
    "\r\n",
    "if i%2 == 0:\r\n",
    "    rgt = n - listcnt\r\n",
    "    lft = i - rgt\r\n",
    "elif i%2 ==1 and n!=1:\r\n",
    "    lft = n - listcnt\r\n",
    "    rgt = i - lft\r\n",
    "print(\"{}/{}\".format(lft,rgt))"
   ],
   "outputs": [
    {
     "output_type": "stream",
     "name": "stdout",
     "text": [
      "2/1\n"
     ]
    }
   ],
   "metadata": {}
  },
  {
   "cell_type": "code",
   "execution_count": 2,
   "source": [
    "templist = [1,2,3]\r\n",
    "if 4 not in templist:\r\n",
    "    print(1)"
   ],
   "outputs": [
    {
     "output_type": "stream",
     "name": "stdout",
     "text": [
      "1\n"
     ]
    }
   ],
   "metadata": {}
  },
  {
   "cell_type": "code",
   "execution_count": 69,
   "source": [
    "x,y,z = map(int,input().split(\" \"))\r\n",
    "tempxy = x-y \r\n",
    "tempzy = z-y \r\n",
    "while True:\r\n",
    "    if tempzy%tempxy == 0:\r\n",
    "        print(tempzy//tempxy)\r\n",
    "        print(\"BB\")\r\n",
    "        break\r\n",
    "    else:\r\n",
    "        print(tempzy//tempxy+1)\r\n",
    "        print(\"Aa\")\r\n",
    "        break\r\n",
    "\r\n",
    "# x*ans - y*(ans - 1) >= z"
   ],
   "outputs": [
    {
     "output_type": "stream",
     "name": "stdout",
     "text": [
      "99999901\n",
      "BB\n"
     ]
    }
   ],
   "metadata": {}
  },
  {
   "cell_type": "code",
   "execution_count": 130,
   "source": [
    "T = int(input())\r\n",
    "templist = []\r\n",
    "for i in range(T):\r\n",
    "    h,w,n = map(int,input().split(\" \"))\r\n",
    "    quonx = n//h\r\n",
    "    remnx = n%h\r\n",
    "\r\n",
    "    if remnx != 0:\r\n",
    "        ansh = n-h*(quonx)\r\n",
    "        if quonx+1 < 10:\r\n",
    "            quonx = \"0\"+str(quonx+1)\r\n",
    "        else:\r\n",
    "            quonx+=1\r\n",
    "    else:\r\n",
    "        ansh = h\r\n",
    "        if quonx < 10:\r\n",
    "            quonx = \"0\"+str(quonx)\r\n",
    "    templist.append([ansh,quonx])\r\n",
    "for i in templist:\r\n",
    "    print(\"{}{}\".format(i[0],i[1]))"
   ],
   "outputs": [
    {
     "output_type": "stream",
     "name": "stdout",
     "text": [
      "110\n"
     ]
    }
   ],
   "metadata": {}
  },
  {
   "cell_type": "code",
   "execution_count": 85,
   "source": [
    "int(\"0\"+\"12\")"
   ],
   "outputs": [
    {
     "output_type": "execute_result",
     "data": {
      "text/plain": [
       "12"
      ]
     },
     "metadata": {},
     "execution_count": 85
    }
   ],
   "metadata": {}
  },
  {
   "cell_type": "code",
   "execution_count": null,
   "source": [],
   "outputs": [],
   "metadata": {}
  }
 ],
 "metadata": {
  "orig_nbformat": 4,
  "language_info": {
   "name": "python",
   "version": "3.8.8",
   "mimetype": "text/x-python",
   "codemirror_mode": {
    "name": "ipython",
    "version": 3
   },
   "pygments_lexer": "ipython3",
   "nbconvert_exporter": "python",
   "file_extension": ".py"
  },
  "kernelspec": {
   "name": "python3",
   "display_name": "Python 3.8.8 64-bit"
  },
  "interpreter": {
   "hash": "f23faf4bfe871c203c8bec80520af5927fc7cb1ae3bd834ddf554ee587ad1c05"
  }
 },
 "nbformat": 4,
 "nbformat_minor": 2
}